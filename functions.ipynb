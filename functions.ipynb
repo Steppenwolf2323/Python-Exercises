{
 "cells": [
  {
   "cell_type": "markdown",
   "id": "5c8560bd",
   "metadata": {},
   "source": [
    "## Python Functions"
   ]
  },
  {
   "cell_type": "markdown",
   "id": "e0a06c33",
   "metadata": {},
   "source": [
    "##### 1. Write a function that takes three arguments and return them."
   ]
  },
  {
   "cell_type": "code",
   "execution_count": 8,
   "id": "f0553d7a",
   "metadata": {},
   "outputs": [
    {
     "name": "stdout",
     "output_type": "stream",
     "text": [
      "This is Randal, from Germany. Availability: 3 days a week\n"
     ]
    }
   ],
   "source": [
    "def person(name: str, availability:int, nation: str)-> str:\n",
    "\n",
    "    return f\"This is {name}, from {nation}. Availability: {availability} days a week\"\n",
    "\n",
    "print(person(\"Randal\", 3, \"Germany\"))\n"
   ]
  },
  {
   "cell_type": "markdown",
   "id": "060eb0f3",
   "metadata": {},
   "source": [
    "##### 2. A function that can takes more than one argument and return the sum of them."
   ]
  },
  {
   "cell_type": "code",
   "execution_count": 27,
   "id": "e94c5aff",
   "metadata": {},
   "outputs": [
    {
     "name": "stdout",
     "output_type": "stream",
     "text": [
      "31.0\n"
     ]
    }
   ],
   "source": [
    "def sum(*args)-> float:\n",
    "    sum = 0\n",
    "    for num in args:\n",
    "      sum += num\n",
    "    \n",
    "    return float(sum)\n",
    "\n",
    "\n",
    "print(sum(3,22,5,1))"
   ]
  },
  {
   "cell_type": "markdown",
   "id": "5629fcd5",
   "metadata": {},
   "source": [
    "##### 3. Write a function that accepts two arguments. One of the two is a default argument."
   ]
  },
  {
   "cell_type": "code",
   "execution_count": 26,
   "id": "01440858",
   "metadata": {},
   "outputs": [
    {
     "name": "stdout",
     "output_type": "stream",
     "text": [
      "Bob, its status is 'unknown'\n",
      "Guzman, its status is married\n"
     ]
    }
   ],
   "source": [
    "def employee(name: str, status:str = \"'unknown'\") ->str:\n",
    "\n",
    "    return f\"{name}, its status is {status}\"\n",
    "\n",
    "print(employee(\"Bob\"))\n",
    "print(employee(\"Guzman\", \"married\"))"
   ]
  },
  {
   "cell_type": "markdown",
   "id": "bca08f5a",
   "metadata": {},
   "source": [
    "##### 4. A function takes two paramenters, and it calculates the sum of the, the multiplication of them and return the results."
   ]
  },
  {
   "cell_type": "code",
   "execution_count": null,
   "id": "e9f289a9",
   "metadata": {},
   "outputs": [
    {
     "name": "stdout",
     "output_type": "stream",
     "text": [
      " The sum of the two number is 8, and the product is 15\n"
     ]
    }
   ],
   "source": [
    "def operation(num_1, num_2) ->float:\n",
    "\n",
    "    return f\" The sum of the two number is {num_1 + num_2}, and the product is {num_1 * num_2}.\"\n",
    "\n",
    "\n",
    "print(operation(3,5))"
   ]
  },
  {
   "cell_type": "markdown",
   "id": "a6a5e0b4",
   "metadata": {},
   "source": [
    "##### 5. Nested Functions: the inside function calculates the sum of n arguments and the outside function add a 23% tax to the sum and return the final result."
   ]
  },
  {
   "cell_type": "code",
   "execution_count": 38,
   "id": "469d1f53",
   "metadata": {},
   "outputs": [
    {
     "name": "stdout",
     "output_type": "stream",
     "text": [
      "The total is 60.0 euro. Cash or card?\n"
     ]
    }
   ],
   "source": [
    "def tax_calculator(*args)-> float:\n",
    "    \n",
    "    def total_spent() -> float:\n",
    "        sum = 0\n",
    "        for item in args:\n",
    "            sum += float(item)\n",
    "        \n",
    "        return sum\n",
    "    \n",
    "    income = total_spent()          \n",
    "\n",
    "    tax = (income * 20) / 100\n",
    "    total_to_pay = income + tax\n",
    "\n",
    "    return f\"The total is {total_to_pay} euro. Cash or card?\"\n",
    "\n",
    "print(tax_calculator(10,23,17))"
   ]
  },
  {
   "cell_type": "markdown",
   "id": "bdfbee21",
   "metadata": {},
   "source": [
    "##### 6. Create a recursive function that calculates the sum of all number from 0 to the input number."
   ]
  },
  {
   "cell_type": "code",
   "execution_count": 43,
   "id": "65241132",
   "metadata": {},
   "outputs": [
    {
     "data": {
      "text/plain": [
       "10"
      ]
     },
     "execution_count": 43,
     "metadata": {},
     "output_type": "execute_result"
    }
   ],
   "source": [
    "def recursive_sum(inp: int) -> int:\n",
    "\n",
    "    sum = 0\n",
    "    if inp > 0:\n",
    "        sum = inp + recursive_sum(inp-1)\n",
    "\n",
    "    return sum      \n",
    "\n",
    "    \n",
    "recursive_sum(4)\n"
   ]
  },
  {
   "cell_type": "markdown",
   "id": "be3f4e4d",
   "metadata": {},
   "source": [
    "##### 7. Change the name of a function and call it with the new name."
   ]
  },
  {
   "cell_type": "code",
   "execution_count": 55,
   "id": "3de6e107",
   "metadata": {},
   "outputs": [
    {
     "name": "stdout",
     "output_type": "stream",
     "text": [
      "Called the function both with the initial and the new name and the result are:\n",
      "recursive_sum: 10\n",
      "new_recursive: 10\n"
     ]
    }
   ],
   "source": [
    "initial_name = recursive_sum(4)\n",
    "\n",
    "new_recursive = recursive_sum\n",
    "\n",
    "new_name = new_recursive(4) \n",
    "    \n",
    "print(f'Called the function both with the initial and the new name and the result are:\\nrecursive_sum: {initial_name}\\nnew_recursive: {new_name}')"
   ]
  },
  {
   "cell_type": "markdown",
   "id": "79d7a170",
   "metadata": {},
   "source": [
    "##### 8. Ask for two input number and store in a list all even numbers between them using a function."
   ]
  },
  {
   "cell_type": "code",
   "execution_count": 66,
   "id": "d55ef7e1",
   "metadata": {},
   "outputs": [
    {
     "name": "stdout",
     "output_type": "stream",
     "text": [
      "You entered the same number. First and second number are 3\n"
     ]
    },
    {
     "data": {
      "text/plain": [
       "'The list of even number is: []'"
      ]
     },
     "execution_count": 66,
     "metadata": {},
     "output_type": "execute_result"
    }
   ],
   "source": [
    "def even_numbers():\n",
    "\n",
    "    even_num = []\n",
    "\n",
    "    first_num = int(input(\"Enter the first number, please\"))\n",
    "    second_num = int(input(\"Enter a second number, please\"))\n",
    "\n",
    "    if first_num < second_num:\n",
    "\n",
    "        for x in range(first_num, second_num+1):\n",
    "            if x % 2 == 0:\n",
    "                even_num.append(x)\n",
    "            else:\n",
    "                continue\n",
    "\n",
    "    elif first_num > second_num:\n",
    "\n",
    "        for x in range(second_num, first_num+1):\n",
    "            if x % 2 == 0:\n",
    "                even_num.append(x)\n",
    "            else:\n",
    "                continue\n",
    "    \n",
    "    else:\n",
    "        if first_num % 2 == 0:\n",
    "            even_num.append(first_num)\n",
    "            print(f\"You entered the same number. First and second number are {first_num}\")\n",
    "        else:\n",
    "            print(f\"You entered the same number. First and second number are {first_num}\")\n",
    "\n",
    "        \n",
    "    return f\"The list of even number is: {even_num}\"\n",
    "\n",
    "\n",
    "even_numbers()\n",
    "\n",
    "\n"
   ]
  },
  {
   "cell_type": "markdown",
   "id": "8123a2b8",
   "metadata": {},
   "source": [
    "##### 9. Write a Function that modify the value of a global variable type float. Round the initial global value to the next integer."
   ]
  },
  {
   "cell_type": "code",
   "execution_count": 86,
   "id": "0299db3f",
   "metadata": {},
   "outputs": [
    {
     "name": "stdout",
     "output_type": "stream",
     "text": [
      "\n",
      "The initial global variable is 9.272984\n",
      "The new global variable is 9\n"
     ]
    }
   ],
   "source": [
    "general_var: float = 9.272984\n",
    "\n",
    "def change_global(var:float)-> int:\n",
    "\n",
    "    var = int(var)\n",
    "\n",
    "    return var\n",
    "\n",
    "print(f'\\nThe initial global variable is {general_var}')\n",
    "\n",
    "print(f'The new global variable is {change_global(general_var)}')"
   ]
  },
  {
   "cell_type": "markdown",
   "id": "a51dd7d1",
   "metadata": {},
   "source": [
    "##### 10 Create an higher order function that takes a function as a parameter. For example, given two measures in mt, calculate the area, and then the tax on the area."
   ]
  },
  {
   "cell_type": "code",
   "execution_count": 90,
   "id": "67ded822",
   "metadata": {},
   "outputs": [
    {
     "name": "stdout",
     "output_type": "stream",
     "text": [
      "The property is 35 square mt and the tax on it amount to 350 euro\n"
     ]
    }
   ],
   "source": [
    "def area_calculator(side_one, side_two) -> int:\n",
    "\n",
    "    area = side_one * side_two\n",
    "\n",
    "    return area\n",
    "\n",
    "\n",
    "def area_tax(area, tax_sqr):\n",
    "\n",
    "    property_tax = area * tax_sqr\n",
    "\n",
    "    return f'The property is {area} square mt and the tax on it amount to {property_tax} euro'\n",
    "\n",
    "\n",
    "print(area_tax(area_calculator(5,7), 10))"
   ]
  }
 ],
 "metadata": {
  "kernelspec": {
   "display_name": "Python 3",
   "language": "python",
   "name": "python3"
  },
  "language_info": {
   "codemirror_mode": {
    "name": "ipython",
    "version": 3
   },
   "file_extension": ".py",
   "mimetype": "text/x-python",
   "name": "python",
   "nbconvert_exporter": "python",
   "pygments_lexer": "ipython3",
   "version": "3.11.1"
  }
 },
 "nbformat": 4,
 "nbformat_minor": 5
}
