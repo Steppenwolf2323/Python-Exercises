{
 "cells": [
  {
   "cell_type": "markdown",
   "id": "5c8560bd",
   "metadata": {},
   "source": [
    "## Python Functions"
   ]
  },
  {
   "cell_type": "markdown",
   "id": "e0a06c33",
   "metadata": {},
   "source": [
    "##### 1. Write a function that takes three arguments and return them."
   ]
  },
  {
   "cell_type": "code",
   "execution_count": 8,
   "id": "f0553d7a",
   "metadata": {},
   "outputs": [
    {
     "name": "stdout",
     "output_type": "stream",
     "text": [
      "This is Randal, from Germany. Availability: 3 days a week\n"
     ]
    }
   ],
   "source": [
    "def person(name: str, availability:int, nation: str)-> str:\n",
    "\n",
    "    return f\"This is {name}, from {nation}. Availability: {availability} days a week\"\n",
    "\n",
    "print(person(\"Randal\", 3, \"Germany\"))\n"
   ]
  },
  {
   "cell_type": "markdown",
   "id": "060eb0f3",
   "metadata": {},
   "source": [
    "##### 2. A function that can takes more than one argument and return the sum of them."
   ]
  },
  {
   "cell_type": "code",
   "execution_count": 27,
   "id": "e94c5aff",
   "metadata": {},
   "outputs": [
    {
     "name": "stdout",
     "output_type": "stream",
     "text": [
      "31.0\n"
     ]
    }
   ],
   "source": [
    "def sum(*args)-> float:\n",
    "    sum = 0\n",
    "    for num in args:\n",
    "      sum += num\n",
    "    \n",
    "    return float(sum)\n",
    "\n",
    "\n",
    "print(sum(3,22,5,1))"
   ]
  },
  {
   "cell_type": "markdown",
   "id": "5629fcd5",
   "metadata": {},
   "source": [
    "##### 3. Write a function that accepts two arguments. One of the two is a default argument."
   ]
  },
  {
   "cell_type": "code",
   "execution_count": 26,
   "id": "01440858",
   "metadata": {},
   "outputs": [
    {
     "name": "stdout",
     "output_type": "stream",
     "text": [
      "Bob, its status is 'unknown'\n",
      "Guzman, its status is married\n"
     ]
    }
   ],
   "source": [
    "def employee(name: str, status:str = \"'unknown'\") ->str:\n",
    "\n",
    "    return f\"{name}, its status is {status}\"\n",
    "\n",
    "print(employee(\"Bob\"))\n",
    "print(employee(\"Guzman\", \"married\"))"
   ]
  },
  {
   "cell_type": "markdown",
   "id": "bca08f5a",
   "metadata": {},
   "source": [
    "##### 4. A function takes two paramenters, and it calculates the sum of the, the multiplication of them and return the results."
   ]
  },
  {
   "cell_type": "code",
   "execution_count": null,
   "id": "e9f289a9",
   "metadata": {},
   "outputs": [
    {
     "name": "stdout",
     "output_type": "stream",
     "text": [
      " The sum of the two number is 8, and the product is 15\n"
     ]
    }
   ],
   "source": [
    "def operation(num_1, num_2) ->float:\n",
    "\n",
    "    return f\" The sum of the two number is {num_1 + num_2}, and the product is {num_1 * num_2}.\"\n",
    "\n",
    "\n",
    "print(operation(3,5))"
   ]
  },
  {
   "cell_type": "markdown",
   "id": "a6a5e0b4",
   "metadata": {},
   "source": [
    "##### 5. Nested Functions: the inside function calculates the sum of n arguments and the outside function add a 23% tax to the sum and return the final result."
   ]
  },
  {
   "cell_type": "code",
   "execution_count": 38,
   "id": "469d1f53",
   "metadata": {},
   "outputs": [
    {
     "name": "stdout",
     "output_type": "stream",
     "text": [
      "The total is 60.0 euro. Cash or card?\n"
     ]
    }
   ],
   "source": [
    "def tax_calculator(*args)-> float:\n",
    "    \n",
    "    def total_spent() -> float:\n",
    "        sum = 0\n",
    "        for item in args:\n",
    "            sum += float(item)\n",
    "        \n",
    "        return sum\n",
    "    \n",
    "    income = total_spent()          \n",
    "\n",
    "    tax = (income * 20) / 100\n",
    "    total_to_pay = income + tax\n",
    "\n",
    "    return f\"The total is {total_to_pay} euro. Cash or card?\"\n",
    "\n",
    "print(tax_calculator(10,23,17))"
   ]
  },
  {
   "cell_type": "markdown",
   "id": "bdfbee21",
   "metadata": {},
   "source": [
    "##### 6. Create a recursive function that calculates the sum of all number from 0 to the input number."
   ]
  },
  {
   "cell_type": "code",
   "execution_count": 41,
   "id": "65241132",
   "metadata": {},
   "outputs": [
    {
     "name": "stdout",
     "output_type": "stream",
     "text": [
      "10\n"
     ]
    }
   ],
   "source": [
    "def recursive_sum(inp: int) -> int:\n",
    "\n",
    "    sum = 0\n",
    "    if inp > 0:\n",
    "        sum = inp + recursive_sum(inp-1)\n",
    "\n",
    "    return sum      \n",
    "\n",
    "    \n",
    "print(recursive_sum(4))\n"
   ]
  }
 ],
 "metadata": {
  "kernelspec": {
   "display_name": "Python 3",
   "language": "python",
   "name": "python3"
  },
  "language_info": {
   "codemirror_mode": {
    "name": "ipython",
    "version": 3
   },
   "file_extension": ".py",
   "mimetype": "text/x-python",
   "name": "python",
   "nbconvert_exporter": "python",
   "pygments_lexer": "ipython3",
   "version": "3.11.1"
  }
 },
 "nbformat": 4,
 "nbformat_minor": 5
}
