{
 "cells": [
  {
   "cell_type": "markdown",
   "id": "5345f8a9",
   "metadata": {},
   "source": [
    "## Lists in Python"
   ]
  },
  {
   "cell_type": "markdown",
   "id": "5c07933b",
   "metadata": {},
   "source": [
    "##### 1. Some simple exercises: first create a list of letters out of your full name (only letters), check how many elements it has, and access some elements by their index."
   ]
  },
  {
   "cell_type": "code",
   "execution_count": 1,
   "id": "0bc6da65",
   "metadata": {},
   "outputs": [
    {
     "name": "stdout",
     "output_type": "stream",
     "text": [
      "12\n",
      "K\n",
      "y\n",
      "m\n"
     ]
    }
   ],
   "source": [
    "full_name: str = \"Kamil Ashardy\"\n",
    "\n",
    "letters_name: list = []\n",
    "\n",
    "for letters in full_name:\n",
    "    if letters == \" \":\n",
    "        continue\n",
    "    else:\n",
    "        letters_name.append(letters)\n",
    "\n",
    "print(len(letters_name))\n",
    "\n",
    "#print the first letter\n",
    "print(letters_name[0])\n",
    "\n",
    "#print the last letter\n",
    "print(letters_name[-1])\n",
    "\n",
    "# print the third letter of your name\n",
    "print(letters_name[2])\n"
   ]
  },
  {
   "cell_type": "markdown",
   "id": "a9799f43",
   "metadata": {},
   "source": [
    "##### 2. Some list manipulations: create a list of 10 random numbers (do it manually), change the third element to be 300, add the number 500 at the end of it,  insert in the 4th position the number 400, remove the second last element and then print it out."
   ]
  },
  {
   "cell_type": "code",
   "execution_count": null,
   "id": "3b2013b0",
   "metadata": {},
   "outputs": [
    {
     "name": "stdout",
     "output_type": "stream",
     "text": [
      "[22, 55, 300, 400, 88, 34, 35, 422, 2, 90, 500]\n"
     ]
    }
   ],
   "source": [
    "first_list = [22,55,4,88,34,35,422,2,90,12]     # expected output: [22,55,300,400,88,34,35,422,2,90,500]\n",
    "\n",
    "first_list[2] = 300\n",
    "\n",
    "first_list.append(500)\n",
    "\n",
    "first_list.insert(3,400)\n",
    "\n",
    "del first_list[-2]\n",
    "\n",
    "print(first_list)"
   ]
  },
  {
   "cell_type": "markdown",
   "id": "66415215",
   "metadata": {},
   "source": [
    "##### 3. From a list of number, calculate the sum and the average of the numbers."
   ]
  },
  {
   "cell_type": "code",
   "execution_count": 25,
   "id": "2fed500d",
   "metadata": {},
   "outputs": [
    {
     "name": "stdout",
     "output_type": "stream",
     "text": [
      "136\n",
      "19.4\n"
     ]
    }
   ],
   "source": [
    "numb_list = [3,1,33,5,14,72,8]\n",
    "\n",
    "\n",
    "sum_elements = sum(numb_list)\n",
    "\n",
    "avg_numb_list = sum_elements / len(numb_list)\n",
    "\n",
    "\n",
    "print(sum_elements)\n",
    "print(round(avg_numb_list,1))\n"
   ]
  },
  {
   "cell_type": "markdown",
   "id": "0c085540",
   "metadata": {},
   "source": [
    "##### 4. Reverse a list of numbers without using the reverse function."
   ]
  },
  {
   "cell_type": "code",
   "execution_count": 7,
   "id": "58bc8ee7",
   "metadata": {},
   "outputs": [
    {
     "name": "stdout",
     "output_type": "stream",
     "text": [
      "[0, 1, 2, 3, 4, 5, 6, 7, 8, 9]\n",
      "[9, 8, 7, 6, 5, 4, 3, 2, 1, 0]\n"
     ]
    }
   ],
   "source": [
    "straight = [0,1,2,3,4,5,6,7,8,9]\n",
    "\n",
    "reversed = []\n",
    "\n",
    "for num in range(len(straight)-1,-1,-1):\n",
    "\n",
    "    reversed.append(straight[num])\n",
    "\n",
    "print(straight)\n",
    "print(reversed)"
   ]
  },
  {
   "cell_type": "markdown",
   "id": "290a4415",
   "metadata": {},
   "source": [
    "##### 5. A list of integers, turn all the numbers in their squared value. Do not create a new list just modify the existing one."
   ]
  },
  {
   "cell_type": "code",
   "execution_count": 110,
   "id": "54457ef8",
   "metadata": {},
   "outputs": [
    {
     "name": "stdout",
     "output_type": "stream",
     "text": [
      "[2, 7, 11, 4, 23, 9]\n",
      "[4, 49, 121, 16, 529, 81]\n"
     ]
    }
   ],
   "source": [
    "basic_list = [2,7,11,4,23,9]\n",
    "print(basic_list)\n",
    "\n",
    "for num in range(len(basic_list)):\n",
    "    basic_list[num] = basic_list[num]**2\n",
    "\n",
    "print(basic_list)"
   ]
  },
  {
   "cell_type": "markdown",
   "id": "ccea8cd2",
   "metadata": {},
   "source": [
    "##### 6. Find the max and the min value in a list of numbers."
   ]
  },
  {
   "cell_type": "code",
   "execution_count": 113,
   "id": "45a6d57f",
   "metadata": {},
   "outputs": [
    {
     "name": "stdout",
     "output_type": "stream",
     "text": [
      "[3, 11, 7, 4, 9, 6, 232, 5]\n",
      "3\n",
      "232\n"
     ]
    }
   ],
   "source": [
    "other_list = [3,11,7,4,9,6,232,5]\n",
    "\n",
    "print(other_list)\n",
    "\n",
    "print(min(other_list))\n",
    "\n",
    "print(max(other_list))"
   ]
  },
  {
   "cell_type": "markdown",
   "id": "3d7bf26b",
   "metadata": {},
   "source": [
    "##### 7. Give an example of the count() function with a list of numbers."
   ]
  },
  {
   "cell_type": "code",
   "execution_count": 119,
   "id": "098d7252",
   "metadata": {},
   "outputs": [
    {
     "name": "stdout",
     "output_type": "stream",
     "text": [
      "[3, 11, 5, 2, 3, 77, 9, 3, 45, 654, 3, 90, 59, 90]\n",
      "4\n",
      "2\n",
      "0\n",
      "1\n"
     ]
    }
   ],
   "source": [
    "listone = [3,11,5,2,3,77,9,3,45,654,3,90,59,90]\n",
    "print(listone)\n",
    "\n",
    "print(listone.count(3))\n",
    "print(listone.count(90))\n",
    "print(listone.count(282))\n",
    "print(listone.count(77))"
   ]
  },
  {
   "cell_type": "markdown",
   "id": "b26d3585",
   "metadata": {},
   "source": [
    "##### 8. Sort a list of numbers in ascending and descending order."
   ]
  },
  {
   "cell_type": "code",
   "execution_count": 129,
   "id": "82ed8840",
   "metadata": {},
   "outputs": [
    {
     "name": "stdout",
     "output_type": "stream",
     "text": [
      "[3, 11, 5, 2, 77, 9, 45, 654, 90, 59]\n",
      "[2, 3, 5, 9, 11, 45, 59, 77, 90, 654]\n",
      "[654, 90, 77, 59, 45, 11, 9, 5, 3, 2]\n"
     ]
    }
   ],
   "source": [
    "listone = [3,11,5,2,77,9,45,654,90,59]\n",
    "\n",
    "ascending = sorted(listone)\n",
    "descending = sorted(listone,reverse=True)\n",
    "\n",
    "print(listone)\n",
    "print(ascending)\n",
    "print(descending)\n"
   ]
  },
  {
   "cell_type": "markdown",
   "id": "cbbe7d61",
   "metadata": {},
   "source": [
    "##### 9. Combine two lists  into a single one."
   ]
  },
  {
   "cell_type": "code",
   "execution_count": 5,
   "id": "9aa6eb0b",
   "metadata": {},
   "outputs": [
    {
     "name": "stdout",
     "output_type": "stream",
     "text": [
      "[1, 4, 3, 5, 'a', 'r', 't', 'y']\n"
     ]
    }
   ],
   "source": [
    "list_uno = [1,4,3,5]\n",
    "list_due = ['a','r','t','y']\n",
    "\n",
    "unified = list_uno + list_due\n",
    "\n",
    "print(unified)\n"
   ]
  },
  {
   "cell_type": "markdown",
   "id": "95e82219",
   "metadata": {},
   "source": [
    "##### 10. From a list of string, eliminate the empty strings."
   ]
  },
  {
   "cell_type": "code",
   "execution_count": 12,
   "id": "134c41cf",
   "metadata": {},
   "outputs": [
    {
     "name": "stdout",
     "output_type": "stream",
     "text": [
      "['friend', '', 'lawyer', 'parent', '', 'doctor', '', 'driver']\n",
      "['friend', 'lawyer', 'parent', 'doctor', 'driver']\n"
     ]
    }
   ],
   "source": [
    "words_list = ['friend','','lawyer','parent','','doctor','','driver']\n",
    "new_words_list = []\n",
    "\n",
    "\n",
    "for word in words_list:\n",
    "    if word == '':\n",
    "        continue\n",
    "    else:\n",
    "        new_words_list.append(word)\n",
    "\n",
    "print(words_list)    \n",
    "print(new_words_list)\n"
   ]
  },
  {
   "cell_type": "markdown",
   "id": "6259303d",
   "metadata": {},
   "source": [
    "##### 11. Remove duplicates from a list of numbers."
   ]
  },
  {
   "cell_type": "code",
   "execution_count": 19,
   "id": "181cd416",
   "metadata": {},
   "outputs": [
    {
     "name": "stdout",
     "output_type": "stream",
     "text": [
      "[1, 2, 3, 4, 5]\n"
     ]
    }
   ],
   "source": [
    "duplicates = [1, 2, 2, 3, 1, 4, 5, 4]\n",
    "\n",
    "duplicates = set(duplicates)\n",
    "\n",
    "duplicates = list(duplicates)\n",
    "\n",
    "print(duplicates)\n"
   ]
  },
  {
   "cell_type": "markdown",
   "id": "4092608c",
   "metadata": {},
   "source": [
    "##### 12. From a list of numbers and strings, create two separate lists one for the numbers and one for the strings. Use list comprehension."
   ]
  },
  {
   "cell_type": "code",
   "execution_count": 31,
   "id": "86600b76",
   "metadata": {},
   "outputs": [
    {
     "name": "stdout",
     "output_type": "stream",
     "text": [
      "[1, 44, 22, 7, 23, 78, 34]\n",
      "['Carl', 'Ella', 'Amber', 'Michal', 'Lumber']\n"
     ]
    }
   ],
   "source": [
    "mixed_list = [1, 'Carl', 44, 'Ella', 22, 'Amber', 7, 23, 78, 'Michal', 'Lumber', 34]\n",
    "\n",
    "\n",
    "integer_list = [element for element in mixed_list if isinstance(element, int)]\n",
    "\n",
    "string_list = [element for element in mixed_list if isinstance(element,str)]\n",
    "\n",
    "print(integer_list)\n",
    "\n",
    "print(string_list)\n"
   ]
  },
  {
   "cell_type": "markdown",
   "id": "e69534c4",
   "metadata": {},
   "source": [
    "##### 13. From a nested list, access only the all the string elements, and print them out one by one."
   ]
  },
  {
   "cell_type": "code",
   "execution_count": 33,
   "id": "c1b6ad88",
   "metadata": {},
   "outputs": [
    {
     "name": "stdout",
     "output_type": "stream",
     "text": [
      "Carl\n",
      "Ella\n",
      "Amber\n",
      "Michal\n",
      "Lumber\n"
     ]
    }
   ],
   "source": [
    "nested_list = [1, 'Carl', 44, ['Ella', 22, 'Amber', 7, 23], 78, 'Michal', ['Lumber', 34]]\n",
    "\n",
    "for element in nested_list:\n",
    "    if isinstance(element, list):\n",
    "        for j in element:\n",
    "            if isinstance(j,str):\n",
    "                print(j)\n",
    "    elif isinstance(element, str):\n",
    "        print(element)\n",
    "\n",
    "    else:\n",
    "        continue \n"
   ]
  },
  {
   "cell_type": "markdown",
   "id": "6e17328e",
   "metadata": {},
   "source": [
    "##### 14. Concatenate two lists index by index. Then print the result. E.g. [\"M\", \"na\", \"i\", \"Ke\"] and [\"y\", \"me\", \"s\", \"lly\"] should become [\"My\", \"name\", \"is\", \"Kelly\"]."
   ]
  },
  {
   "cell_type": "code",
   "execution_count": 49,
   "id": "b80cf8dd",
   "metadata": {},
   "outputs": [
    {
     "name": "stdout",
     "output_type": "stream",
     "text": [
      "['My', 'name', 'is', 'Kelly']\n",
      "My name is Kelly "
     ]
    }
   ],
   "source": [
    "first_conc =  [\"M\", \"na\", \"i\", \"Ke\"]\n",
    "second_conc = [\"y\", \"me\", \"s\", \"lly\"]\n",
    "\n",
    "merged_by_index = []\n",
    "\n",
    "\n",
    "for x,y in zip(first_conc, second_conc):\n",
    "\n",
    "    merged_by_index.append(x+y)\n",
    "\n",
    "print(merged_by_index)\n",
    "\n",
    "for merged in merged_by_index:\n",
    "    print(merged, end=' ')\n",
    "\n"
   ]
  },
  {
   "cell_type": "markdown",
   "id": "b40d01fe",
   "metadata": {},
   "source": [
    "##### 15. Two lists, iterate both lists simultaneously and print the elements from the first in the original order and the elements from the second in reverse order."
   ]
  },
  {
   "cell_type": "code",
   "execution_count": 58,
   "id": "95d62ae0",
   "metadata": {},
   "outputs": [
    {
     "name": "stdout",
     "output_type": "stream",
     "text": [
      "10 400\n",
      "20 300\n",
      "30 200\n",
      "40 100\n"
     ]
    }
   ],
   "source": [
    "list1 = [10, 20, 30, 40]\n",
    "list2 = [100, 200, 300, 400]\n",
    "\n",
    "list2.reverse()\n",
    "\n",
    "for l1,l2 in zip(list1, list2):\n",
    "\n",
    "    print(l1, l2)\n"
   ]
  },
  {
   "cell_type": "markdown",
   "id": "a3e13c69",
   "metadata": {},
   "source": [
    "##### 16. Add a new item to a list after a specified item. e.g list1 = [10, 20, [300, [5000, 6000], 500], 30, 40] becomes [10, 20, [300, [5000, 6000, 7000], 500], 30, 40]. Consider that you know the structure of the list in advance.\n"
   ]
  },
  {
   "cell_type": "code",
   "execution_count": 62,
   "id": "b12a9098",
   "metadata": {},
   "outputs": [
    {
     "name": "stdout",
     "output_type": "stream",
     "text": [
      "[10, 20, [300, [5000, 6000, 7000], 500], 30, 40]\n"
     ]
    }
   ],
   "source": [
    "list_of_lists = [10, 20, [300, [5000, 6000], 500], 30, 40] \n",
    "\n",
    "list_of_lists[2][1].append(7000)\n",
    "\n",
    "print(list_of_lists)\n"
   ]
  },
  {
   "cell_type": "markdown",
   "id": "345edb9e",
   "metadata": {},
   "source": [
    "##### 17. In a list of integers, find the only element that is actually a string of letters representing that number. Then change it with the corresponding integer value. Assume that that number is between 0 and 9. Assume that the list is not ordered."
   ]
  },
  {
   "cell_type": "code",
   "execution_count": 122,
   "id": "0ebf9e6f",
   "metadata": {},
   "outputs": [
    {
     "name": "stdout",
     "output_type": "stream",
     "text": [
      "4 7\n",
      "9 1\n",
      "[1, 3, 6, 23, 8, 9, 1, 7, 4, 2]\n"
     ]
    }
   ],
   "source": [
    "list_mix = [1,3,6,23,\"eight\",9,1,7,4,\"TWo\"]\n",
    "#print(list_mix)\n",
    "\n",
    "# Create a list for comparing the eventual words found in the list\n",
    "comperable_list = [\"one\", \"two\", \"three\", \"four\", \"five\", \"six\", \"seven\", \"eight\", \"nine\", \"zero\"]\n",
    "\n",
    "for element in range(len(list_mix)):    \n",
    "    if isinstance(list_mix[element],str):\n",
    "        list_mix[element] = list_mix[element].lower()\n",
    "        \n",
    "\n",
    "        for idx in range(len(comperable_list)):\n",
    "            if comperable_list[idx] == list_mix[element]:\n",
    "                print(element,idx)\n",
    "                list_mix[element] = idx + 1\n",
    "            else:\n",
    "                continue\n",
    "    else:\n",
    "        continue\n",
    "\n",
    "print(list_mix)   "
   ]
  },
  {
   "cell_type": "code",
   "execution_count": 108,
   "id": "f83dcc80",
   "metadata": {},
   "outputs": [
    {
     "name": "stdout",
     "output_type": "stream",
     "text": [
      "6\n",
      "LLLL\n",
      "[2, 3, 4, 5, 6]\n"
     ]
    }
   ],
   "source": [
    "x = [2,3,4,5,6]\n",
    "\n",
    "for j in x:\n",
    "    if j == 4:\n",
    "        print(x[j])\n",
    "        j =  \"LLLL\"\n",
    "\n",
    "        print(j)\n",
    "\n",
    "\n",
    "print(x)"
   ]
  },
  {
   "cell_type": "code",
   "execution_count": 107,
   "id": "a1c8c8d7",
   "metadata": {},
   "outputs": [
    {
     "name": "stdout",
     "output_type": "stream",
     "text": [
      "[2, 3, 'Porco dio', 5, 6]\n"
     ]
    }
   ],
   "source": [
    "x = [2,3,4,5,6]\n",
    "for i in range(len(x)):\n",
    "    if x[i] == 4:\n",
    "        x[i] = \"Porco dio\"\n",
    "print(x)"
   ]
  },
  {
   "cell_type": "code",
   "execution_count": null,
   "id": "571b704a",
   "metadata": {},
   "outputs": [],
   "source": [
    "basic_list = [2,7,11,4,23,9]\n",
    "print(basic_list)\n",
    "\n",
    "for num in range(len(basic_list)):\n",
    "    basic_list[num] = basic_list[num]**2\n",
    "\n",
    "print(basic_list)"
   ]
  }
 ],
 "metadata": {
  "kernelspec": {
   "display_name": "Python 3",
   "language": "python",
   "name": "python3"
  },
  "language_info": {
   "codemirror_mode": {
    "name": "ipython",
    "version": 3
   },
   "file_extension": ".py",
   "mimetype": "text/x-python",
   "name": "python",
   "nbconvert_exporter": "python",
   "pygments_lexer": "ipython3",
   "version": "3.11.1"
  }
 },
 "nbformat": 4,
 "nbformat_minor": 5
}
