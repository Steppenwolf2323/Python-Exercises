{
 "cells": [
  {
   "cell_type": "markdown",
   "id": "5345f8a9",
   "metadata": {},
   "source": [
    "## Lists in Python"
   ]
  },
  {
   "cell_type": "markdown",
   "id": "5c07933b",
   "metadata": {},
   "source": [
    "##### 1. Some simple exercises: first create a list of letters out of your full name (only letters), check how many elements it has, and access some elements by their index."
   ]
  },
  {
   "cell_type": "code",
   "execution_count": null,
   "id": "0bc6da65",
   "metadata": {},
   "outputs": [
    {
     "name": "stdout",
     "output_type": "stream",
     "text": [
      "12\n",
      "K\n",
      "y\n",
      "m\n"
     ]
    }
   ],
   "source": [
    "full_name: str = \"Kamil Ashardy\"\n",
    "\n",
    "letters_name: list = []\n",
    "\n",
    "for letters in full_name:\n",
    "    if letters == \" \":\n",
    "        continue\n",
    "    else:\n",
    "        letters_name.append(letters)\n",
    "\n",
    "print(len(letters_name))\n",
    "\n",
    "#print the first letter\n",
    "\n",
    "print(letters_name[0])\n",
    "\n",
    "#print the last letter\n",
    "\n",
    "print(letters_name[-1])\n",
    "\n",
    "# print the third letter of your name\n",
    "\n",
    "print(letters_name[2])\n"
   ]
  }
 ],
 "metadata": {
  "kernelspec": {
   "display_name": "Python 3",
   "language": "python",
   "name": "python3"
  },
  "language_info": {
   "codemirror_mode": {
    "name": "ipython",
    "version": 3
   },
   "file_extension": ".py",
   "mimetype": "text/x-python",
   "name": "python",
   "nbconvert_exporter": "python",
   "pygments_lexer": "ipython3",
   "version": "3.11.1"
  }
 },
 "nbformat": 4,
 "nbformat_minor": 5
}
