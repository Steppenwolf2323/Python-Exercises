{
 "cells": [
  {
   "cell_type": "markdown",
   "id": "5345f8a9",
   "metadata": {},
   "source": [
    "## Lists in Python"
   ]
  },
  {
   "cell_type": "markdown",
   "id": "5c07933b",
   "metadata": {},
   "source": [
    "##### 1. Some simple exercises: first create a list of letters out of your full name (only letters), check how many elements it has, and access some elements by their index."
   ]
  },
  {
   "cell_type": "code",
   "execution_count": 1,
   "id": "0bc6da65",
   "metadata": {},
   "outputs": [
    {
     "name": "stdout",
     "output_type": "stream",
     "text": [
      "12\n",
      "K\n",
      "y\n",
      "m\n"
     ]
    }
   ],
   "source": [
    "full_name: str = \"Kamil Ashardy\"\n",
    "\n",
    "letters_name: list = []\n",
    "\n",
    "for letters in full_name:\n",
    "    if letters == \" \":\n",
    "        continue\n",
    "    else:\n",
    "        letters_name.append(letters)\n",
    "\n",
    "print(len(letters_name))\n",
    "\n",
    "#print the first letter\n",
    "print(letters_name[0])\n",
    "\n",
    "#print the last letter\n",
    "print(letters_name[-1])\n",
    "\n",
    "# print the third letter of your name\n",
    "print(letters_name[2])\n"
   ]
  },
  {
   "cell_type": "markdown",
   "id": "a9799f43",
   "metadata": {},
   "source": [
    "##### 2. Some list manipulations: create a list of 10 random numbers (do it manually), change the third element to be 300, add the number 500 at the end of it,  insert in the 4th position the number 400, remove the second last element and then print it out."
   ]
  },
  {
   "cell_type": "code",
   "execution_count": null,
   "id": "3b2013b0",
   "metadata": {},
   "outputs": [
    {
     "name": "stdout",
     "output_type": "stream",
     "text": [
      "[22, 55, 300, 400, 88, 34, 35, 422, 2, 90, 500]\n"
     ]
    }
   ],
   "source": [
    "first_list = [22,55,4,88,34,35,422,2,90,12]     # expected output: [22,55,300,400,88,34,35,422,2,90,500]\n",
    "\n",
    "first_list[2] = 300\n",
    "\n",
    "first_list.append(500)\n",
    "\n",
    "first_list.insert(3,400)\n",
    "\n",
    "del first_list[-2]\n",
    "\n",
    "print(first_list)"
   ]
  },
  {
   "cell_type": "markdown",
   "id": "66415215",
   "metadata": {},
   "source": [
    "##### 3. From a list of number, calculate the sum and the average of the numbers."
   ]
  },
  {
   "cell_type": "code",
   "execution_count": 25,
   "id": "2fed500d",
   "metadata": {},
   "outputs": [
    {
     "name": "stdout",
     "output_type": "stream",
     "text": [
      "136\n",
      "19.4\n"
     ]
    }
   ],
   "source": [
    "numb_list = [3,1,33,5,14,72,8]\n",
    "\n",
    "\n",
    "sum_elements = sum(numb_list)\n",
    "\n",
    "avg_numb_list = sum_elements / len(numb_list)\n",
    "\n",
    "\n",
    "print(sum_elements)\n",
    "print(round(avg_numb_list,1))\n"
   ]
  },
  {
   "cell_type": "markdown",
   "id": "0c085540",
   "metadata": {},
   "source": [
    "##### 4. Reverse a list of numbers without using the reverse function."
   ]
  },
  {
   "cell_type": "code",
   "execution_count": 7,
   "id": "58bc8ee7",
   "metadata": {},
   "outputs": [
    {
     "name": "stdout",
     "output_type": "stream",
     "text": [
      "[0, 1, 2, 3, 4, 5, 6, 7, 8, 9]\n",
      "[9, 8, 7, 6, 5, 4, 3, 2, 1, 0]\n"
     ]
    }
   ],
   "source": [
    "straight = [0,1,2,3,4,5,6,7,8,9]\n",
    "\n",
    "reversed = []\n",
    "\n",
    "for num in range(len(straight)-1,-1,-1):\n",
    "\n",
    "    reversed.append(straight[num])\n",
    "\n",
    "print(straight)\n",
    "print(reversed)"
   ]
  },
  {
   "cell_type": "markdown",
   "id": "290a4415",
   "metadata": {},
   "source": [
    "##### 5. A list of integers, turn all the numbers in their squared value. Do not create a new list just modify the existing one."
   ]
  },
  {
   "cell_type": "code",
   "execution_count": 110,
   "id": "54457ef8",
   "metadata": {},
   "outputs": [
    {
     "name": "stdout",
     "output_type": "stream",
     "text": [
      "[2, 7, 11, 4, 23, 9]\n",
      "[4, 49, 121, 16, 529, 81]\n"
     ]
    }
   ],
   "source": [
    "basic_list = [2,7,11,4,23,9]\n",
    "print(basic_list)\n",
    "\n",
    "for num in range(len(basic_list)):\n",
    "    basic_list[num] = basic_list[num]**2\n",
    "\n",
    "print(basic_list)"
   ]
  },
  {
   "cell_type": "markdown",
   "id": "ccea8cd2",
   "metadata": {},
   "source": [
    "##### 6. Find the max and the min value in a list of numbers."
   ]
  },
  {
   "cell_type": "code",
   "execution_count": 113,
   "id": "45a6d57f",
   "metadata": {},
   "outputs": [
    {
     "name": "stdout",
     "output_type": "stream",
     "text": [
      "[3, 11, 7, 4, 9, 6, 232, 5]\n",
      "3\n",
      "232\n"
     ]
    }
   ],
   "source": [
    "other_list = [3,11,7,4,9,6,232,5]\n",
    "\n",
    "print(other_list)\n",
    "\n",
    "print(min(other_list))\n",
    "\n",
    "print(max(other_list))"
   ]
  },
  {
   "cell_type": "markdown",
   "id": "3d7bf26b",
   "metadata": {},
   "source": [
    "##### 7. Give an example of the count() function with a list of numbers."
   ]
  },
  {
   "cell_type": "code",
   "execution_count": 119,
   "id": "098d7252",
   "metadata": {},
   "outputs": [
    {
     "name": "stdout",
     "output_type": "stream",
     "text": [
      "[3, 11, 5, 2, 3, 77, 9, 3, 45, 654, 3, 90, 59, 90]\n",
      "4\n",
      "2\n",
      "0\n",
      "1\n"
     ]
    }
   ],
   "source": [
    "listone = [3,11,5,2,3,77,9,3,45,654,3,90,59,90]\n",
    "print(listone)\n",
    "\n",
    "print(listone.count(3))\n",
    "print(listone.count(90))\n",
    "print(listone.count(282))\n",
    "print(listone.count(77))"
   ]
  },
  {
   "cell_type": "markdown",
   "id": "b26d3585",
   "metadata": {},
   "source": [
    "##### 8. Sort a list of numbers in ascending and descending order."
   ]
  },
  {
   "cell_type": "code",
   "execution_count": 129,
   "id": "82ed8840",
   "metadata": {},
   "outputs": [
    {
     "name": "stdout",
     "output_type": "stream",
     "text": [
      "[3, 11, 5, 2, 77, 9, 45, 654, 90, 59]\n",
      "[2, 3, 5, 9, 11, 45, 59, 77, 90, 654]\n",
      "[654, 90, 77, 59, 45, 11, 9, 5, 3, 2]\n"
     ]
    }
   ],
   "source": [
    "listone = [3,11,5,2,77,9,45,654,90,59]\n",
    "\n",
    "ascending = sorted(listone)\n",
    "descending = sorted(listone,reverse=True)\n",
    "\n",
    "print(listone)\n",
    "print(ascending)\n",
    "print(descending)\n"
   ]
  },
  {
   "cell_type": "markdown",
   "id": "cbbe7d61",
   "metadata": {},
   "source": [
    "##### 9. Combine two lists  into a single one."
   ]
  },
  {
   "cell_type": "code",
   "execution_count": 5,
   "id": "9aa6eb0b",
   "metadata": {},
   "outputs": [
    {
     "name": "stdout",
     "output_type": "stream",
     "text": [
      "[1, 4, 3, 5, 'a', 'r', 't', 'y']\n"
     ]
    }
   ],
   "source": [
    "list_uno = [1,4,3,5]\n",
    "list_due = ['a','r','t','y']\n",
    "\n",
    "unified = list_uno + list_due\n",
    "\n",
    "print(unified)\n"
   ]
  },
  {
   "cell_type": "markdown",
   "id": "95e82219",
   "metadata": {},
   "source": [
    "##### 10. From a list of string, eliminate the empty strings."
   ]
  },
  {
   "cell_type": "code",
   "execution_count": 12,
   "id": "134c41cf",
   "metadata": {},
   "outputs": [
    {
     "name": "stdout",
     "output_type": "stream",
     "text": [
      "['friend', '', 'lawyer', 'parent', '', 'doctor', '', 'driver']\n",
      "['friend', 'lawyer', 'parent', 'doctor', 'driver']\n"
     ]
    }
   ],
   "source": [
    "words_list = ['friend','','lawyer','parent','','doctor','','driver']\n",
    "new_words_list = []\n",
    "\n",
    "\n",
    "for word in words_list:\n",
    "    if word == '':\n",
    "        continue\n",
    "    else:\n",
    "        new_words_list.append(word)\n",
    "\n",
    "print(words_list)    \n",
    "print(new_words_list)\n"
   ]
  },
  {
   "cell_type": "markdown",
   "id": "6259303d",
   "metadata": {},
   "source": [
    "##### 11. Remove duplicates from a list of numbers."
   ]
  },
  {
   "cell_type": "code",
   "execution_count": 19,
   "id": "181cd416",
   "metadata": {},
   "outputs": [
    {
     "name": "stdout",
     "output_type": "stream",
     "text": [
      "[1, 2, 3, 4, 5]\n"
     ]
    }
   ],
   "source": [
    "duplicates = [1, 2, 2, 3, 1, 4, 5, 4]\n",
    "\n",
    "duplicates = set(duplicates)\n",
    "\n",
    "duplicates = list(duplicates)\n",
    "\n",
    "print(duplicates)\n"
   ]
  },
  {
   "cell_type": "markdown",
   "id": "4092608c",
   "metadata": {},
   "source": [
    "##### 12. From a list of numbers and strings, create two separate lists one for the numbers and one for the strings. Use list comprehension."
   ]
  },
  {
   "cell_type": "code",
   "execution_count": 31,
   "id": "86600b76",
   "metadata": {},
   "outputs": [
    {
     "name": "stdout",
     "output_type": "stream",
     "text": [
      "[1, 44, 22, 7, 23, 78, 34]\n",
      "['Carl', 'Ella', 'Amber', 'Michal', 'Lumber']\n"
     ]
    }
   ],
   "source": [
    "mixed_list = [1, 'Carl', 44, 'Ella', 22, 'Amber', 7, 23, 78, 'Michal', 'Lumber', 34]\n",
    "\n",
    "\n",
    "integer_list = [element for element in mixed_list if isinstance(element, int)]\n",
    "\n",
    "string_list = [element for element in mixed_list if isinstance(element,str)]\n",
    "\n",
    "print(integer_list)\n",
    "\n",
    "print(string_list)\n"
   ]
  },
  {
   "cell_type": "code",
   "execution_count": null,
   "id": "c1b6ad88",
   "metadata": {},
   "outputs": [],
   "source": []
  }
 ],
 "metadata": {
  "kernelspec": {
   "display_name": "Python 3",
   "language": "python",
   "name": "python3"
  },
  "language_info": {
   "codemirror_mode": {
    "name": "ipython",
    "version": 3
   },
   "file_extension": ".py",
   "mimetype": "text/x-python",
   "name": "python",
   "nbconvert_exporter": "python",
   "pygments_lexer": "ipython3",
   "version": "3.11.1"
  }
 },
 "nbformat": 4,
 "nbformat_minor": 5
}
