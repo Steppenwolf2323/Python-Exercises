{
 "cells": [
  {
   "cell_type": "markdown",
   "id": "8a5b94a8",
   "metadata": {},
   "source": [
    "## Input and output operations in Python. ##\n"
   ]
  },
  {
   "cell_type": "markdown",
   "id": "c240d98f",
   "metadata": {},
   "source": [
    "##### 1. Write a program to accept two integer numbers from the user and calculate their product.\n"
   ]
  },
  {
   "cell_type": "code",
   "execution_count": 6,
   "id": "d08e1ca0",
   "metadata": {},
   "outputs": [
    {
     "name": "stdout",
     "output_type": "stream",
     "text": [
      "The result of the multiplication of the two number is: 36\n"
     ]
    }
   ],
   "source": [
    "x = int(input(\"Give me a number\"))\n",
    "y = int(input(\"Now give me a second number\"))\n",
    "\n",
    "z = x * y\n",
    "\n",
    "print(f'The result of the multiplication of the two number is: {z}')"
   ]
  },
  {
   "cell_type": "markdown",
   "id": "e8c4b051",
   "metadata": {},
   "source": [
    "##### 2. Round to two decimal a float number (from user)\n",
    "\n"
   ]
  },
  {
   "cell_type": "code",
   "execution_count": 16,
   "id": "203fce50",
   "metadata": {},
   "outputs": [
    {
     "name": "stdout",
     "output_type": "stream",
     "text": [
      "The rounded number is: 2.44\n"
     ]
    }
   ],
   "source": [
    "number = float(input(\"Give me a float number\"))\n",
    "\n",
    "rounded = round(number,2)\n",
    "\n",
    "print(f'The rounded number is: {rounded}')"
   ]
  },
  {
   "cell_type": "markdown",
   "id": "8100a82e",
   "metadata": {},
   "source": [
    "##### 3. Ask for 5 floating points and add them to a list. Then print the list.\n"
   ]
  },
  {
   "cell_type": "code",
   "execution_count": 18,
   "id": "0cd81ae6",
   "metadata": {},
   "outputs": [
    {
     "name": "stdout",
     "output_type": "stream",
     "text": [
      "[4.3233, 6.3324, 5.4, 3.3, 2.55]\n"
     ]
    }
   ],
   "source": [
    "counter = 0\n",
    "list_float = []\n",
    "\n",
    "while counter < 5:\n",
    "    float_nr = float(input(\"Enter a float number\"))\n",
    "    list_float.append(float_nr)\n",
    "    counter += 1\n",
    "\n",
    "print(list_float)"
   ]
  },
  {
   "cell_type": "markdown",
   "id": "3ae0d82d",
   "metadata": {},
   "source": [
    "##### 4. Ask for n words input and then save them into n different variables. Then print. \n"
   ]
  },
  {
   "cell_type": "code",
   "execution_count": null,
   "id": "0bc22d85",
   "metadata": {},
   "outputs": [
    {
     "name": "stdout",
     "output_type": "stream",
     "text": [
      "{'Word_1': 'ghgkd', 'Word_2': 'dc', 'Word_3': 'sdf', 'Word_4': 'edd', 'Word_5': 'gino', 'Word_6': 'bistecca'}\n"
     ]
    }
   ],
   "source": [
    "password = input(\"Give me some words to use as a password\")\n",
    "\n",
    "new_password = password.split()\n",
    "\n",
    "dict_password = {}\n",
    "counter = 1\n",
    "\n",
    "for x in new_password:\n",
    "    dict_password[f'Word_{counter}'] = x\n",
    "    counter +=1\n",
    "\n",
    "print(dict_password)"
   ]
  },
  {
   "cell_type": "markdown",
   "id": "7d564937",
   "metadata": {},
   "source": [
    "##### 5. Ask for personal data and then print a sentence using these variables and the .format() method.\n"
   ]
  },
  {
   "cell_type": "code",
   "execution_count": 36,
   "id": "6f0faf75",
   "metadata": {},
   "outputs": [
    {
     "name": "stdout",
     "output_type": "stream",
     "text": [
      "Guido, a student living in Amsterdam\n"
     ]
    }
   ],
   "source": [
    "name = input(\"Enter your first name\").capitalize()\n",
    "profession = input(\"Enter your profession\").lower()\n",
    "location = input('Where do you live?').capitalize()\n",
    "\n",
    "print(\"{}, a {} living in {}\".format(name, profession,location))\n"
   ]
  },
  {
   "cell_type": "markdown",
   "id": "333fdba9",
   "metadata": {},
   "source": [
    "##### 6. Ask the user for a numerator and a denominator. Calculate the percentage and display it with two decimal places followed by a percent sign (e.g., 75.50%).\n",
    "\n",
    "\n"
   ]
  },
  {
   "cell_type": "code",
   "execution_count": 42,
   "id": "9b067a93",
   "metadata": {},
   "outputs": [
    {
     "name": "stdout",
     "output_type": "stream",
     "text": [
      "You have spent 83.33 % of the actual value. That's not bad. \n"
     ]
    }
   ],
   "source": [
    "numerator = int(input(\"How much did you pay for your house?\"))\n",
    "denominator = int(input(\"How much was the asking price?\"))\n",
    "\n",
    "percentage_paid = round((numerator / denominator) *100, 2)\n",
    "\n",
    "if numerator < denominator:\n",
    "    print(f\"You have spent {percentage_paid} % of the actual value. That's not bad. \")\n",
    "elif numerator > denominator:\n",
    "    print(f\"You have spent {percentage_paid} % of the actual value. Maybe a bit too much.\")\n",
    "else:\n",
    "    print(f\"Ok, the money that were asked.\")"
   ]
  },
  {
   "cell_type": "markdown",
   "id": "2d4022f1",
   "metadata": {},
   "source": [
    "##### 7. Create a simple interactive menu with options like “1. Say Hello”, “2. Calculate Square”, “3. Exit”. Based on the user’s input, perform the corresponding action."
   ]
  },
  {
   "cell_type": "code",
   "execution_count": null,
   "id": "28d72e42",
   "metadata": {},
   "outputs": [
    {
     "name": "stdout",
     "output_type": "stream",
     "text": [
      "Hey Guido. Select:\n",
      "1 -> To calculate the square of a number.\n",
      "2 -> To exit the program.\n",
      "Enter a valid choice\n",
      "Hey Guido. Select:\n",
      "1 -> To calculate the square of a number.\n",
      "2 -> To exit the program.\n",
      "Unvalid choice.\n",
      "Hey Guido. Select:\n",
      "1 -> To calculate the square of a number.\n",
      "2 -> To exit the program.\n",
      "The square of 3.0 is 9.0.\n",
      "Hey Guido. Select:\n",
      "1 -> To calculate the square of a number.\n",
      "2 -> To exit the program.\n",
      "Enter a valid choice\n",
      "Hey Guido. Select:\n",
      "1 -> To calculate the square of a number.\n",
      "2 -> To exit the program.\n",
      "Enter a valid choice\n",
      "Hey Guido. Select:\n",
      "1 -> To calculate the square of a number.\n",
      "2 -> To exit the program.\n",
      "Unvalid choice.\n",
      "Hey Guido. Select:\n",
      "1 -> To calculate the square of a number.\n",
      "2 -> To exit the program.\n",
      "Unvalid choice.\n",
      "Hey Guido. Select:\n",
      "1 -> To calculate the square of a number.\n",
      "2 -> To exit the program.\n",
      "The square of 4.66 is 21.72.\n",
      "Hey Guido. Select:\n",
      "1 -> To calculate the square of a number.\n",
      "2 -> To exit the program.\n",
      "You enter an unvalid character.\n",
      "Hey Guido. Select:\n",
      "1 -> To calculate the square of a number.\n",
      "2 -> To exit the program.\n",
      "You enter an unvalid character.\n",
      "Hey Guido. Select:\n",
      "1 -> To calculate the square of a number.\n",
      "2 -> To exit the program.\n",
      "Thanks, see you soon.\n"
     ]
    }
   ],
   "source": [
    "name = input('Welcome, what is your name?').capitalize()\n",
    "exit = ''\n",
    "\n",
    "while exit != 'exit':\n",
    "    print(f'Hey {name}. Select:\\n1 -> To calculate the square of a number.\\n2 -> To exit the program.')\n",
    "\n",
    "    \n",
    "\n",
    "    try:\n",
    "        choice = int(input(\"1 or 2?\"))  \n",
    "\n",
    "        if choice == 1:\n",
    "            try:\n",
    "                number = float(input(\"Enter the number, please.\"))\n",
    "                print(f\"The square of {number} is {round((number**2), 2)}.\")\n",
    "            except ValueError:\n",
    "                print(\"You enter an invalid character.\")\n",
    "\n",
    "        elif choice == 2:\n",
    "            print(\"Thanks, see you soon.\")\n",
    "            exit = 'exit'\n",
    "            \n",
    "        else:\n",
    "            print('Invalid choice.')\n",
    "\n",
    "    except ValueError:\n",
    "        print(\"Enter a valid choice\")\n",
    "\n"
   ]
  },
  {
   "cell_type": "markdown",
   "id": "b28a37e6",
   "metadata": {},
   "source": [
    "##### 8. .You have two lists: names = [\"Alice\", \"Bob\", \"Charlie\"] and scores = [85, 92, 78]. Print these lists as a simple table with columns “Name” and “Score\"."
   ]
  },
  {
   "cell_type": "code",
   "execution_count": 18,
   "id": "3bee1be2",
   "metadata": {},
   "outputs": [
    {
     "name": "stdout",
     "output_type": "stream",
     "text": [
      "Name       Score\n",
      "-----------------\n",
      "Alice        5\n",
      "Bob          8\n",
      "Charlie      7\n"
     ]
    }
   ],
   "source": [
    "names = [\"Alice\", \"Bob\", \"Charlie\"]\n",
    "scores = [5,8,7]\n",
    "\n",
    "print(f\"{'Name':<10} {'Score':>5}\")\n",
    "print(\"-\"*17)\n",
    "\n",
    "for name, score in zip(names,scores):\n",
    "    print(f\"{name :<10}{score :>4}\")"
   ]
  },
  {
   "cell_type": "code",
   "execution_count": null,
   "id": "744c6cab",
   "metadata": {},
   "outputs": [],
   "source": []
  }
 ],
 "metadata": {
  "kernelspec": {
   "display_name": "Python 3",
   "language": "python",
   "name": "python3"
  },
  "language_info": {
   "codemirror_mode": {
    "name": "ipython",
    "version": 3
   },
   "file_extension": ".py",
   "mimetype": "text/x-python",
   "name": "python",
   "nbconvert_exporter": "python",
   "pygments_lexer": "ipython3",
   "version": "3.11.1"
  }
 },
 "nbformat": 4,
 "nbformat_minor": 5
}
