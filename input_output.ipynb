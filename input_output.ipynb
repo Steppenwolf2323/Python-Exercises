{
 "cells": [
  {
   "cell_type": "markdown",
   "id": "8a5b94a8",
   "metadata": {},
   "source": [
    "## Input and output operations in Python. ##\n"
   ]
  },
  {
   "cell_type": "markdown",
   "id": "c240d98f",
   "metadata": {},
   "source": [
    "1. ##### Write a program to accept two integer numbers from the user and calculate their product.\n"
   ]
  },
  {
   "cell_type": "code",
   "execution_count": 6,
   "id": "d08e1ca0",
   "metadata": {},
   "outputs": [
    {
     "name": "stdout",
     "output_type": "stream",
     "text": [
      "The result of the multiplication of the two number is: 36\n"
     ]
    }
   ],
   "source": [
    "x = int(input(\"Give me a number\"))\n",
    "y = int(input(\"Now give me a second number\"))\n",
    "\n",
    "z = x * y\n",
    "\n",
    "print(f'The result of the multiplication of the two number is: {z}')"
   ]
  },
  {
   "cell_type": "code",
   "execution_count": null,
   "id": "e8c4b051",
   "metadata": {},
   "outputs": [],
   "source": []
  }
 ],
 "metadata": {
  "kernelspec": {
   "display_name": "Python 3",
   "language": "python",
   "name": "python3"
  },
  "language_info": {
   "codemirror_mode": {
    "name": "ipython",
    "version": 3
   },
   "file_extension": ".py",
   "mimetype": "text/x-python",
   "name": "python",
   "nbconvert_exporter": "python",
   "pygments_lexer": "ipython3",
   "version": "3.11.1"
  }
 },
 "nbformat": 4,
 "nbformat_minor": 5
}
