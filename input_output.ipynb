{
 "cells": [
  {
   "cell_type": "markdown",
   "id": "8a5b94a8",
   "metadata": {},
   "source": [
    "## Input and output operations in Python. ##\n"
   ]
  },
  {
   "cell_type": "markdown",
   "id": "c240d98f",
   "metadata": {},
   "source": [
    "1. ##### Write a program to accept two integer numbers from the user and calculate their product.\n"
   ]
  },
  {
   "cell_type": "code",
   "execution_count": 6,
   "id": "d08e1ca0",
   "metadata": {},
   "outputs": [
    {
     "name": "stdout",
     "output_type": "stream",
     "text": [
      "The result of the multiplication of the two number is: 36\n"
     ]
    }
   ],
   "source": [
    "x = int(input(\"Give me a number\"))\n",
    "y = int(input(\"Now give me a second number\"))\n",
    "\n",
    "z = x * y\n",
    "\n",
    "print(f'The result of the multiplication of the two number is: {z}')"
   ]
  },
  {
   "cell_type": "markdown",
   "id": "e8c4b051",
   "metadata": {},
   "source": [
    "2. ##### Round to two decimal a float number (from user)\n",
    "\n"
   ]
  },
  {
   "cell_type": "code",
   "execution_count": 16,
   "id": "203fce50",
   "metadata": {},
   "outputs": [
    {
     "name": "stdout",
     "output_type": "stream",
     "text": [
      "The rounded number is: 2.44\n"
     ]
    }
   ],
   "source": [
    "number = float(input(\"Give me a float number\"))\n",
    "\n",
    "rounded = round(number,2)\n",
    "\n",
    "print(f'The rounded number is: {rounded}')"
   ]
  },
  {
   "cell_type": "markdown",
   "id": "8100a82e",
   "metadata": {},
   "source": [
    "3. ##### Ask for 5 floating points and add them to a list. Then print the list.\n"
   ]
  },
  {
   "cell_type": "code",
   "execution_count": 18,
   "id": "0cd81ae6",
   "metadata": {},
   "outputs": [
    {
     "name": "stdout",
     "output_type": "stream",
     "text": [
      "[4.3233, 6.3324, 5.4, 3.3, 2.55]\n"
     ]
    }
   ],
   "source": [
    "counter = 0\n",
    "list_float = []\n",
    "\n",
    "while counter < 5:\n",
    "    float_nr = float(input(\"Enter a float number\"))\n",
    "    list_float.append(float_nr)\n",
    "    counter += 1\n",
    "\n",
    "print(list_float)"
   ]
  },
  {
   "cell_type": "markdown",
   "id": "3ae0d82d",
   "metadata": {},
   "source": [
    "4. ##### Ask for n words input and then save them into n different variables. Then print. \n"
   ]
  },
  {
   "cell_type": "code",
   "execution_count": null,
   "id": "0bc22d85",
   "metadata": {},
   "outputs": [
    {
     "name": "stdout",
     "output_type": "stream",
     "text": [
      "{'Word_1': 'ghgkd', 'Word_2': 'dc', 'Word_3': 'sdf', 'Word_4': 'edd', 'Word_5': 'gino', 'Word_6': 'bistecca'}\n"
     ]
    }
   ],
   "source": [
    "password = input(\"Give me some words to use as a password\")\n",
    "\n",
    "new_password = password.split()\n",
    "\n",
    "dict_password = {}\n",
    "counter = 1\n",
    "\n",
    "for x in new_password:\n",
    "    dict_password[f'Word_{counter}'] = x\n",
    "    counter +=1\n",
    "\n",
    "print(dict_password)"
   ]
  },
  {
   "cell_type": "markdown",
   "id": "7d564937",
   "metadata": {},
   "source": [
    "4. ##### Ask for personal data and then print a sentence using these variables and the .format() method.\n"
   ]
  },
  {
   "cell_type": "code",
   "execution_count": 36,
   "id": "6f0faf75",
   "metadata": {},
   "outputs": [
    {
     "name": "stdout",
     "output_type": "stream",
     "text": [
      "Guido, a student living in Amsterdam\n"
     ]
    }
   ],
   "source": [
    "name = input(\"Enter your first name\").capitalize()\n",
    "profession = input(\"Enter your profession\").lower()\n",
    "location = input('Where do you live?').capitalize()\n",
    "\n",
    "print(\"{}, a {} living in {}\".format(name, profession,location))\n"
   ]
  },
  {
   "cell_type": "code",
   "execution_count": null,
   "id": "333fdba9",
   "metadata": {},
   "outputs": [],
   "source": []
  }
 ],
 "metadata": {
  "kernelspec": {
   "display_name": "Python 3",
   "language": "python",
   "name": "python3"
  },
  "language_info": {
   "codemirror_mode": {
    "name": "ipython",
    "version": 3
   },
   "file_extension": ".py",
   "mimetype": "text/x-python",
   "name": "python",
   "nbconvert_exporter": "python",
   "pygments_lexer": "ipython3",
   "version": "3.11.1"
  }
 },
 "nbformat": 4,
 "nbformat_minor": 5
}
