{
 "cells": [
  {
   "cell_type": "markdown",
   "id": "43d495a8",
   "metadata": {},
   "source": [
    "## Loops in Python. ##\n"
   ]
  },
  {
   "cell_type": "markdown",
   "id": "35b9828f",
   "metadata": {},
   "source": [
    "##### 1. Print first 10 natural numbers using while loop"
   ]
  },
  {
   "cell_type": "code",
   "execution_count": 2,
   "id": "34174986",
   "metadata": {},
   "outputs": [
    {
     "name": "stdout",
     "output_type": "stream",
     "text": [
      "1\n",
      "2\n",
      "3\n",
      "4\n",
      "5\n",
      "6\n",
      "7\n",
      "8\n",
      "9\n",
      "10\n"
     ]
    }
   ],
   "source": [
    "x = 0\n",
    "\n",
    "while x < 10:\n",
    "    x +=1\n",
    "    print(x)"
   ]
  },
  {
   "cell_type": "markdown",
   "id": "cc0252a8",
   "metadata": {},
   "source": [
    "##### 2. Print: \n",
    "    1 \n",
    "    1 2 \n",
    "    1 2 3 \n",
    "    1 2 3 4 \n",
    "    1 2 3 4 5"
   ]
  },
  {
   "cell_type": "code",
   "execution_count": 8,
   "id": "8842e97c",
   "metadata": {},
   "outputs": [
    {
     "name": "stdout",
     "output_type": "stream",
     "text": [
      "1\n",
      "12\n",
      "123\n",
      "1234\n",
      "12345\n"
     ]
    }
   ],
   "source": [
    "number_list = ''\n",
    "x = 0\n",
    "\n",
    "while x < 5:\n",
    "    x += 1\n",
    "    number_list += str(x)\n",
    "    print(number_list)\n",
    "\n",
    "    "
   ]
  },
  {
   "cell_type": "code",
   "execution_count": 18,
   "id": "b7063d75",
   "metadata": {},
   "outputs": [
    {
     "name": "stdout",
     "output_type": "stream",
     "text": [
      "1\n",
      "12\n",
      "123\n",
      "1234\n",
      "12345\n"
     ]
    }
   ],
   "source": [
    "for x in range(1,5+1):\n",
    "    for j in range(1,x+1):\n",
    "        print(j,end='')\n",
    "    print()"
   ]
  },
  {
   "cell_type": "markdown",
   "id": "31f90ebe",
   "metadata": {},
   "source": [
    "##### 3. Calculate sum of all numbers from 1 to a given number"
   ]
  },
  {
   "cell_type": "code",
   "execution_count": 4,
   "id": "cf57a03c",
   "metadata": {},
   "outputs": [
    {
     "name": "stdout",
     "output_type": "stream",
     "text": [
      "55\n"
     ]
    }
   ],
   "source": [
    "given = int(input(\"Please, enter a number\"))\n",
    "counter = 0\n",
    "sum = 0\n",
    "\n",
    "while counter <= given:\n",
    "    sum += counter\n",
    "    counter += 1\n",
    "\n",
    "print(sum)"
   ]
  },
  {
   "cell_type": "markdown",
   "id": "55c6f998",
   "metadata": {},
   "source": [
    "##### 4. Print multiplication table of a given number"
   ]
  },
  {
   "cell_type": "code",
   "execution_count": 13,
   "id": "1a4d7520",
   "metadata": {},
   "outputs": [
    {
     "name": "stdout",
     "output_type": "stream",
     "text": [
      "0\n",
      "5\n",
      "10\n",
      "15\n",
      "20\n",
      "25\n",
      "30\n",
      "35\n",
      "40\n",
      "45\n",
      "50\n"
     ]
    }
   ],
   "source": [
    "given = int(input(\"Please, enter a number between 0 and 10\"))\n",
    "\n",
    "for x in range(0,11):\n",
    "    result = given * x\n",
    "    print(result)\n"
   ]
  },
  {
   "cell_type": "markdown",
   "id": "0a125216",
   "metadata": {},
   "source": [
    "##### 5. Print from a list all the number that are divisible by 5, smaller than 150. The loop should stop if an encountered number is greater than 500."
   ]
  },
  {
   "cell_type": "code",
   "execution_count": 18,
   "id": "a3f73d2b",
   "metadata": {},
   "outputs": [
    {
     "name": "stdout",
     "output_type": "stream",
     "text": [
      "75\n",
      "150\n",
      "145\n"
     ]
    }
   ],
   "source": [
    "numbers = [12, 75, 150, 180, 145, 525, 50]\n",
    "\n",
    "for x in numbers:\n",
    "    if x > 500:\n",
    "        break\n",
    "    elif (x <= 150) and (x % 5 == 0) :\n",
    "        print(x)\n",
    "    else:\n",
    "        continue"
   ]
  },
  {
   "cell_type": "markdown",
   "id": "676091fb",
   "metadata": {},
   "source": [
    "##### 6. Use a while loop to count the number of digits in a number."
   ]
  },
  {
   "cell_type": "code",
   "execution_count": null,
   "id": "d84faf6d",
   "metadata": {},
   "outputs": [
    {
     "name": "stdout",
     "output_type": "stream",
     "text": [
      "10\n"
     ]
    }
   ],
   "source": [
    "number = 7472956390\n",
    "counter = 0\n",
    "\n",
    "while number > 0:\n",
    "    number = number // 10\n",
    "    counter += 1\n",
    "\n",
    "print(counter)"
   ]
  },
  {
   "cell_type": "markdown",
   "id": "6382b5e5",
   "metadata": {},
   "source": [
    "##### 7. Print:\n",
    "    5 4 3 2 1\n",
    "    4 3 2 1\n",
    "    3 2 1\n",
    "    2 1\n",
    "    1\n",
    "    \n"
   ]
  },
  {
   "cell_type": "code",
   "execution_count": null,
   "id": "f088babb",
   "metadata": {},
   "outputs": [
    {
     "name": "stdout",
     "output_type": "stream",
     "text": [
      "54321\n",
      "4321\n",
      "321\n",
      "21\n",
      "1\n"
     ]
    }
   ],
   "source": [
    "number = 5\n",
    "\n",
    "for x in range(number, 0, -1):\n",
    "    for j in range(x, 0 ,-1):\n",
    "        print(j,end='')\n",
    "    print() \n",
    "\n",
    "\n"
   ]
  },
  {
   "cell_type": "markdown",
   "id": "bc8529ce",
   "metadata": {},
   "source": [
    "##### 8. Print a list in reverse order using a loop.\n"
   ]
  },
  {
   "cell_type": "code",
   "execution_count": 41,
   "id": "3c9d9aaf",
   "metadata": {},
   "outputs": [
    {
     "name": "stdout",
     "output_type": "stream",
     "text": [
      "50\n",
      "40\n",
      "30\n",
      "20\n",
      "10\n"
     ]
    }
   ],
   "source": [
    "list_direct = [10, 20, 30, 40, 50]\n",
    "lis_inversed =[]\n",
    "\n",
    "for x in range(len(list_direct), 0, -1):\n",
    "    print(list_direct[x-1])\n",
    "    \n"
   ]
  },
  {
   "cell_type": "markdown",
   "id": "0458f029",
   "metadata": {},
   "source": [
    "##### 9. Display numbers from -10 to -1 using for loop."
   ]
  },
  {
   "cell_type": "code",
   "execution_count": 42,
   "id": "5705d58b",
   "metadata": {},
   "outputs": [
    {
     "name": "stdout",
     "output_type": "stream",
     "text": [
      "-10\n",
      "-9\n",
      "-8\n",
      "-7\n",
      "-6\n",
      "-5\n",
      "-4\n",
      "-3\n",
      "-2\n",
      "-1\n"
     ]
    }
   ],
   "source": [
    "for num in range(-10,0):\n",
    "    print(num)"
   ]
  },
  {
   "cell_type": "markdown",
   "id": "35b57068",
   "metadata": {},
   "source": [
    "##### 10. Print all prime numbers within a range."
   ]
  },
  {
   "cell_type": "code",
   "execution_count": 53,
   "id": "4ff6d33a",
   "metadata": {},
   "outputs": [
    {
     "name": "stdout",
     "output_type": "stream",
     "text": [
      "29\n",
      "31\n",
      "37\n",
      "41\n",
      "43\n",
      "47\n"
     ]
    }
   ],
   "source": [
    "left_limit = int(input(\"Enter a number, please.\"))\n",
    "right_limit = int(input(\"Enter the second number.\"))\n",
    "\n",
    "for number in range(left_limit, right_limit):\n",
    "    if number > 1:\n",
    "        for i in range(2, number):\n",
    "            if (number % i == 0):\n",
    "                break\n",
    "        else:\n",
    "            print(number)\n",
    "            \n"
   ]
  },
  {
   "cell_type": "markdown",
   "id": "6fe6eb1a",
   "metadata": {},
   "source": [
    "##### 11. Print the Fibonacci sequence up to n terms."
   ]
  },
  {
   "cell_type": "code",
   "execution_count": 63,
   "id": "9ad8a218",
   "metadata": {},
   "outputs": [
    {
     "name": "stdout",
     "output_type": "stream",
     "text": [
      "0 1 1 2 3 5 8 13 21 34 "
     ]
    }
   ],
   "source": [
    "terms = 10\n",
    "number = 0\n",
    "adding = 1\n",
    "\n",
    "for x in range(0,terms):\n",
    "    result = adding + number\n",
    "    print(number, end=' ')\n",
    "    number = adding\n",
    "    adding = result\n",
    "    \n",
    "\n",
    "\n"
   ]
  },
  {
   "cell_type": "markdown",
   "id": "86deda62",
   "metadata": {},
   "source": [
    "##### 12. Find the factorial of a given number using a loop."
   ]
  },
  {
   "cell_type": "code",
   "execution_count": 7,
   "id": "b0cada2c",
   "metadata": {},
   "outputs": [
    {
     "name": "stdout",
     "output_type": "stream",
     "text": [
      "1\n",
      "2\n",
      "6\n",
      "24\n",
      "120\n"
     ]
    }
   ],
   "source": [
    "n = 5\n",
    "factorial = 1\n",
    "\n",
    "for x in range(1,n+1):\n",
    "    factorial = factorial * x    \n",
    "    print(factorial)"
   ]
  },
  {
   "cell_type": "code",
   "execution_count": 32,
   "id": "b55a9ba5",
   "metadata": {},
   "outputs": [
    {
     "name": "stdout",
     "output_type": "stream",
     "text": [
      "120\n"
     ]
    }
   ],
   "source": [
    "num_ = 5\n",
    "factorial_ = 1\n",
    "\n",
    "while num_ > 0 :\n",
    "    factorial_ = factorial_ * num_\n",
    "    num_ -= 1\n",
    "print(factorial_)\n",
    "    "
   ]
  },
  {
   "cell_type": "code",
   "execution_count": null,
   "id": "7f6ecfd1",
   "metadata": {},
   "outputs": [],
   "source": []
  }
 ],
 "metadata": {
  "kernelspec": {
   "display_name": "Python 3",
   "language": "python",
   "name": "python3"
  },
  "language_info": {
   "codemirror_mode": {
    "name": "ipython",
    "version": 3
   },
   "file_extension": ".py",
   "mimetype": "text/x-python",
   "name": "python",
   "nbconvert_exporter": "python",
   "pygments_lexer": "ipython3",
   "version": "3.11.1"
  }
 },
 "nbformat": 4,
 "nbformat_minor": 5
}
