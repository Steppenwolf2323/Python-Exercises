{
 "cells": [
  {
   "cell_type": "markdown",
   "id": "43d495a8",
   "metadata": {},
   "source": [
    "## Loops in Python. ##\n"
   ]
  },
  {
   "cell_type": "markdown",
   "id": "35b9828f",
   "metadata": {},
   "source": [
    "##### 1. Print first 10 natural numbers using while loop\n"
   ]
  },
  {
   "cell_type": "code",
   "execution_count": 2,
   "id": "34174986",
   "metadata": {},
   "outputs": [
    {
     "name": "stdout",
     "output_type": "stream",
     "text": [
      "1\n",
      "2\n",
      "3\n",
      "4\n",
      "5\n",
      "6\n",
      "7\n",
      "8\n",
      "9\n",
      "10\n"
     ]
    }
   ],
   "source": [
    "x = 0\n",
    "\n",
    "while x < 10:\n",
    "    x +=1\n",
    "    print(x)"
   ]
  },
  {
   "cell_type": "markdown",
   "id": "cc0252a8",
   "metadata": {},
   "source": [
    "##### 2. Print: \n",
    "    1 \n",
    "    1 2 \n",
    "    1 2 3 \n",
    "    1 2 3 4 \n",
    "    1 2 3 4 5"
   ]
  },
  {
   "cell_type": "code",
   "execution_count": 8,
   "id": "8842e97c",
   "metadata": {},
   "outputs": [
    {
     "name": "stdout",
     "output_type": "stream",
     "text": [
      "1\n",
      "12\n",
      "123\n",
      "1234\n",
      "12345\n"
     ]
    }
   ],
   "source": [
    "number_list = ''\n",
    "x = 0\n",
    "\n",
    "while x < 5:\n",
    "    x += 1\n",
    "    number_list += str(x)\n",
    "    print(number_list)\n",
    "\n",
    "    "
   ]
  },
  {
   "cell_type": "markdown",
   "id": "31f90ebe",
   "metadata": {},
   "source": [
    "##### 2. Calculate sum of all numbers from 1 to a given number\n"
   ]
  },
  {
   "cell_type": "code",
   "execution_count": 4,
   "id": "cf57a03c",
   "metadata": {},
   "outputs": [
    {
     "name": "stdout",
     "output_type": "stream",
     "text": [
      "55\n"
     ]
    }
   ],
   "source": [
    "given = int(input(\"Please, enter a number\"))\n",
    "counter = 0\n",
    "sum = 0\n",
    "\n",
    "while counter <= given:\n",
    "    sum += counter\n",
    "    counter += 1\n",
    "\n",
    "print(sum)"
   ]
  }
 ],
 "metadata": {
  "kernelspec": {
   "display_name": "Python 3",
   "language": "python",
   "name": "python3"
  },
  "language_info": {
   "codemirror_mode": {
    "name": "ipython",
    "version": 3
   },
   "file_extension": ".py",
   "mimetype": "text/x-python",
   "name": "python",
   "nbconvert_exporter": "python",
   "pygments_lexer": "ipython3",
   "version": "3.11.1"
  }
 },
 "nbformat": 4,
 "nbformat_minor": 5
}
